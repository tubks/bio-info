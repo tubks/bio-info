{
 "cells": [
  {
   "cell_type": "markdown",
   "metadata": {},
   "source": [
    "# Projet phylogénétique\n",
    "Marine Djaffardjy (marine.djaffardjy@u-psud.fr)- Théophile Sanchez - Sarah Cohen Boulakia\n",
    "\n",
    "------\n",
    "\n",
    "## Introduction\n",
    "\n",
    "Au cours de ce projet, vous étudierez trois espèces disparues de félins qui vivaient autrefois sur le continent Américain. Ces trois espèces, le _smilodon_ (tigre à dents de sabre), l'_homotherium_ (_scimitar toothed tigers_) et _M. trumani_ (guépard américain) se sont éteintes il y a environ 13 000 ans, à la fin de la dernière période glaciaire. Des séquences ADN partielles de la protéine cytochrome b de ces espèces ont pu être séquencées et vont vous permettre de retrouver les liens de parentés entre ces espèces et des espèces de félins contemporaines : le chat domestique, le lion, le léopard, le tigre, le puma, le guépard et les chats sauvages africains, chinois et européens. Sont aussi présentes dans le jeu de donnée des séquences issues d'espèces extérieures aux félins.\n",
    "\n",
    "Afin de reconstruire l'arbre phylogénétique de ces espèces, vous utiliserez une méthode basée sur le calcul des distances évolutives entre les séquences ADN des protéines. Sachez qu'une démarche similaire peut-être appliquée aux séquences d'acides aminés.\n",
    "\n",
    "Les différentes étapes qui vous permetterons de construire l'arbre sont détaillées dans ce notebook. Vous devrez implémenter les algorithmes en Python et répondre aux questions dans les cellules prévues.\n",
    "\n",
    "Quelques conseils :\n",
    "- Utiliser au maximum les fonctions présentes dans les packages de python (sauf si il vous est explicitement demandé de les réimplémenter). Si un problème vous paraît courant, il existe surement déjà une fonction pour le résoudre. Pour ce projet vous serez limité aux packages de base, à Numpy et ETE (seulement pour l'affichage des arbres).\n",
    "- Si une partie de votre code ne vous semble pas très explicite, ajoutez des commentaires pour l'expliquer. Une personne qui lit votre code doit pouvoir comprendre son fonctionnement facilement.\n",
    "- N'hésitez pas à chercher dans la documentation et sur internet. Cependant, faites attention au plagiat !\n",
    "\n",
    "Le projet est à rendre **en binôme** par mail. Vous regrouperez votre notebook et les fichiers nécessaires à son fonctionnement dans une archive portant vos noms et prénoms."
   ]
  },
  {
   "cell_type": "markdown",
   "metadata": {},
   "source": [
    "------\n",
    "## Importation des séquences\n",
    "\n",
    "Le format FASTA permet de stocker plusieurs séquences (ADN, ARN ou peptidiques) dans un fichier. Les séquences que vous allez étudier ont été regroupées dans le fichier `cat_dna.fasta`.\n",
    "\n",
    "**Exercice 1 :** Écriver une fonction permettant d'importer un fichier au format fasta et de le stocker dans un dictionnaire. Les clés seront les noms des séquences et les valeurs du dictionnaire seront les séquences d'adn."
   ]
  },
  {
   "cell_type": "code",
   "execution_count": 1,
   "metadata": {},
   "outputs": [
    {
     "name": "stdout",
     "output_type": "stream",
     "text": [
      "{'Sabertooth': 'CTAATTAAAATTATCAACCACTCATTCATTGATTTACCCACCCCATCCAACATTTCAGCATGATGAAACTTCGGCTCCTTATTAGGAGTGTGCTTAATCTTACAAATCCTCACTGGCTTATTTCTAGCCATACATTATACACCAGATACAACAACCGCCTTCTCATCAGTTACCCACATTTGCCGTGATGTTAATTACGGCTGAATTATCCGATATATACACGCCAATGGAGCTTCCATATTCTTCATCTGCCTATATATACATGTAGGTCGAGCATATACTAC', 'Homotherium': 'CTAATTAAAATCATCAACCAATCATTCATTGACTTACCTACCCCCTCCAACATCTCAGCATGATGAAACTTCGGATCCCTACTAGGCATTTGCCTAATTCTTCAAATCCTCACAGGCTTATTCCTAGCCATACACTACACATCAGACACAACAACTGCTTTCTCATCAATCGCCCATATTTGCCGTGACGTAAATTATGGTTGAATTATCCGATATATACACGCCAATGGAGCCTCTATATTCTTCATCTGTCTATACCTACATGTAGCTCGAGAATTTATTAC', 'American': 'CTTATTAAAATCATTAATCACTCATTCATTGATCTACCCACCCCATCCAACATTTCAGCATGATGAAACTTCGGTTCCCTACTAGGGGTCTGCCTAATCCTACAAATCCTAACCGGCCTCTTCCTGGCTATACACTACACATCAGACACAATAACCGCCTTTTCATCAGTTACTCACATCTGTCGTGACGTCAATTACGGCTGAATTATTCGGTATATACACGCCAACGGAGCCTCCATATTCTTTATCTGCCTATACATGCACGTAGGGCGAGAATATATTAC', 'Spotted': 'CTCATTAAAATTATCAACAAATCATTCATTGACCTCCCCACCCCATCCAACATCTCGGCATGGTGAAATTTCGGGTCACTATTAGGAATCTGCTTAATCTTACAAATCCTGACAGGTCTATTCCTAGCCATACACTACACATCAGACACAACAACCGCCTTCTCATCAGTGACCCACATCTGCCGAGACGTAAACTACGGCTGAATCATCCGATACATACACGCCAACGGAGCTTCCATATTCTTCATCTGTCTATATATACATATCGGCCGAGAATATACTAC', 'Striped': 'CTCATTAAAATTGTCAACGAATCATTCATCGATCTCCCCACCCCATCCAACATCTCAGCATGATGAAACTTCGGATCGCTATTAGGAATCTGCCTAATCTTACAGATTCTGACAGGCCTATTTCTAGCCATACACTACACATCAGACACAACAACCGCCTTTTCATCAGTAACACACATCTGCCGAGACGTCAACTATGGCTGAATTATCCGATATATGCACGCCAACGGGGCCTCCATGTTTTTCATCTGCCTGTTCATGCACGCCGGCCGAGAATGTACTAC', 'Chinese': 'CTTATTAAAATCATCAACCATTCATTCATTGACCTACCCACCCCATCCAACATCTCAGCATGATGAAATTTCGGCTCCCTATTAGGAGTCTGCCTAATCTTACAAATTCTCACCGGCCTCTTTCTAGCCATACACTACACATCAGACACAGTAACCGCTTTTTCATCAGTTACTCACATCTGTCGCGATGTTAATTACGGCTGAATCATCCGATACATACACGCCAATGGAGCTTCCATATTCTTTATCTGCCTATACATGCACGTAGGACGAGAATATATTAC', 'African': 'CTTATCAAAATTATTAATCACTCATTCATCGATCTACCCGCCCCATCTAACATCTCAGCATGATGAAACTTCGGCTCCCTTCTAGGAGTCTGCCTAATCTTACAAATCCTCACCGGCCTCTTTTTGGCCATACACTACACATCAGACACAATAACCGCCTTTTCATCAGTTACCCACATCTGTCGCGACGTTAATTATGGCTGAATCATCCGATATTTACACGCCAACGGAGCTTCTATATTCTTTATCTGCCTGTACATACACGTAGGACGGGAATATACTAC', 'Felis': 'CTTACCAAAATTATTAATCACTCATTCATCGACCTACCTGCCCCATCTAACATCTCAGCATGATGAAACTTCGGCTCCCTTCTAGGAGTCTGCCTAATCTTACAAATCCTCACCGGCCTCTTTTTGGCCATACACTACACATCAGACACAACAACCGCCTTTTCATCAGTTACCCACATCTGTCGCGACGTTAATTATGGCTGAATCATCCGATATTTACACGCCAACGGAGCTTCTATATTCTTTATCTGCCTGTACATACATGTAGGACGGGAATATACTAC', 'Wild': 'CTTATCAAAATTATTAATCACTCATTCATCGACCTACCCGCCCCATCTAACATCTCAGCATGATGAAACTTCGGCTCCCTTCTAGGAGTCTGCCTAATCTTACAAATCCTCACCGGCCTCTTTTTGGCCATACACTACACATCAGACACAATAACCGCCTTTTCATCAGTTACCCACATCTGTCGCGACGTTAATTATGGCTGAATCATCCGATATTTACACGCCAACGGAGCTTCTATATTCTTTATCTGCCTGTACATACATGTGGGACGGGAATATACTAC', 'Cheetah': 'CTTATCAAAATCGTTAATCACTCATTCATCGATTTACCCACCCCACCTAACATTTCAGCATGATGAAACTTCGGCTCCCTACTAGGAGTCTGCCTAGTCCTACAGATCCTAACCGGCCTTTTCCTAGCCATACACTACACATCAGACACAATAACCGCCTTTTCATCAGTTACTCACATCTGCCGCGACGTCAACTACGGCTGAATTATTCGATACATGCACGCCAACGGAGCCTCTATATTCTTTATCTGCCTATACATGCATGTAGGACGAGAATATACTAC', 'Puma': 'CTTATCAAAATCATTAATCACTCATTTATTGATTTACCCACCCCATCCAACATTTCAGCATGATGAAACTTTGGCTCCCTACTAGGGGTCTGCCTAATCCTACAAATCCTAACCGGCCTCTTCCTGGCCATACACTATACATCAGACACAATGACTGCCTTTTCATCAGTCACTCACATCTGTCGTGACGTTAACTACGGCTGAATTATTCGGTACATACATGCCAACGGAGCCTCCATATTCTTTATCTGCCTATACATGCACGTGGGACGAGAATATATTAT', 'Tiger': 'CTTATCAAAATTATTAATCACTCATTTATTGACCTACCCGCCCCATCCAATATTTCAGCATGATGAAACTTTGGCTCCTTACTAGGGGTGTGCTTAATCTTACAAATCCTCACTGGCCTCTTTCTAGCCATACACTACACATCAGACACAATAACCGCATTCTCATCAGTTACCCACATTTGCCGCGACGTAAACTACGGCTGGATTATCCGATATCTACATGCCAACGGAGCCTCCATATTCTTTATCTGTCTATACATGCACGTAGGACGAGAATATACTAC', 'Lion': 'CTTGTCAAAATTATTAATCACTCATTCATTGATCTTCCCACTCCACCCAATATCTCAGCATGATGAAACTTTGGCTCCTTATTAGGAGTATGTTTAATCCTACAAATTCTCACCGGCCTCTTTCTAGCCATACATTACACACCAGACACAATAACCGCTTTCTCATCAGTCACCCACATTTGCCGCGATGTAAACTATGGCTGAATTATCCGGTACCTACACGCCAACGGAGCCTCCATATTCTTTATCTGCCTATACATGCATGTAGGACGAGAATATACTAT', 'Leopard': 'CTCATCAAAATTATTAATCACTCATTCATTGATCTCCCCGCTCCATCCAACATCTCAACATGATGGAACTTTGGCTCCCTATTAGGGGTATGTTTAATCCTACAAATTCTCACCGGCCTCTTTCTAGCCATACATTATACATCAGACACAACAACCGCTTTCTCATCAGTTACCCATATCTGCCGCGATGTAAATTATGGCTGAATTATCCGGTATCTACACGCCAATGGAGCCTCCATATTCTTTATCTGCCTATACATACATGTAGGACGAGGATATACTAT', 'Dog': 'CTAGCCAAAATTGTTAATAACTCATTCATTGACCTCCCAGCGCCGTCTAACATCTCTGCTTGATGGAACTTCGGATCCTTACTAGGAGTATGCTTGATTCTACAGATTCTAACAGGTTTATTCTTAGCTATGCACTATACATCGGACACAGCCACAGCTTTTTCATCAGTCACCCACATCTGCCGAGACGTTAACTACGGCTGAATTATCCGCTATATGCACGCAAATGGCGCTTCCATATTCTTTATCTGCCTATTCCTACATGTAGGACGAGCCTATATTAC', 'Wolf': 'CTAGCCAAAATTGTTAATAACTCATTCATTGACCTCCCAGCGCCGTCTAACATCTCTGCTTGATGGAACTTCGGATCCTTACTAGGAGTATGCTTGATTCTACAGATTCTAACAGGTTTATTCTTAGCTATGCACTATACATCGGACACAGCCACAGCTTTTTCATCAGTCACCCACATCTGCCGAGACGTTAACTACGGCTGAATTATCCGCTATATGCACGCAAATGGCGCTTCCATATTCTTTATCTGCCTATTCCTACATGTAGGACGAGCCTATATTAC', 'Black': 'TTAGCTAAAATCATCAACAACTCACTCATTGATCTCCCAGCACCATCAAATATCTCAGCATGATGAAACTTCGGGTCCCTCCTCGGAGTATGTTTAGTACTACAAATTCTAACGGGCCTATTCCTAGCTATACACTATACATCAGACACAACTACAGCCTTTTCATCAATCACCCATATTTGCCGAGATGTTCACTACGGATGAATTATCCGATACATACATGCTAACGGAGCTTCCATATTCTTTATCTGCCTGTTCATGCACGTAGGACGGGTCTGTACTAT', 'Brown': 'TTAGCTAAAATCATCAACAACTCATTTATTGACCTTCCAACACCATCAAACATCTCAGCATGATGAAACTTTGGATCCCTCCTTGGAGTATGTTTAATTCTACAGATTCTAACAGGCCTGTTCCTAGCCATACACTATACACCAGACACAACCACAGCTTTTTCATCGGTCACCCACATTTGCCGAGACGTTCACTACGGGTGAGTTATCCGATATGTACATGCAAATGGAGCCTCCATCTTCTTTATCTGCCTATTTATGCACTAGGACGGGGCCTGTACTAT'}\n"
     ]
    }
   ],
   "source": [
    "dic_data = {}\n",
    "nom = ''\n",
    "seq = ''\n",
    "with open('cat_dna.fasta', 'r') as f:\n",
    "    for i in f:\n",
    "        if i == '\\n':\n",
    "            dic_data[nom] = seq\n",
    "            nom = ''\n",
    "            seq = ''\n",
    "        else:\n",
    "            i = i.split(' ')\n",
    "            if len(i)>1:\n",
    "                nom = i[0][1:]\n",
    "            else:\n",
    "                seq+=i[0][:-1]\n",
    "print(dic_data)"
   ]
  },
  {
   "cell_type": "markdown",
   "metadata": {},
   "source": [
    "------\n",
    "## Alignement des séquences\n",
    "\n",
    "La méthode que vous utiliserez pour calculer l'arbre phylogénétique nécessite de calculer la distance évolutive entre les séquences. Avant de pouvoir les calculer, il faut d'abord aligner les séquences en considérant trois types de mutations :\n",
    "- les substitutions (un nucléotide est remplacé par un autre)\n",
    "- les insertions\n",
    "- les délétions\n",
    "Par exemple, les séquences \"ACTCCTGA\" et \"ATCTCGTGA\" ont plusieurs alignements possibles : \n",
    "\n",
    "$A_1$ :\n",
    "```\n",
    "-ACTCCTGA\n",
    "ATCTCGTGA\n",
    "```\n",
    "\n",
    "$A_2$ :\n",
    "```\n",
    "A-CTCCTGA\n",
    "ATCTCGTGA\n",
    "```\n",
    "\n",
    "$A_3$ :\n",
    "```\n",
    "AC-TCCTGA\n",
    "ATCTCGTGA\n",
    "```\n",
    ".\n",
    "\n",
    ".\n",
    "\n",
    ".\n",
    "\n",
    "Le \"-\" désigne un *gap*, c'est à dire un \"trou\" dans l'alignement qui a été causé par une insertion ou une déletion. On regroupe ces deux types de mutations sous le terme indel.\n",
    "\n",
    "Ces alignements correspondent à une multitude d'histoires phylogénétiques différentes. Pour sélectionner le meilleur alignement il faut donc introduire l'hypothèse du maximum de parcimonie qui privilégie l'histoire phylogénétique qui implique le moins d'hypothèses et donc, le moins de changements évolutifs. Par exemple, parmis les trois alignements ci-dessus on preferera l'alignement 2 car il correspond au scénario avec le moins de mutations:\n",
    "- l'alignement 1 implique au minimum 1 indel et 2 substitutions\n",
    "- l'alignement 2 implique au minimum 1 indel et 1 substitutions\n",
    "- l'alignement 3 implique au minimum 1 indel et 2 substitutions\n",
    "\n",
    "On peut maintenant définir un score d'identité que l'on va augmenter de 1 lorsque qu'il n'y pas eu de mutation et ainsi obtenir la matrice suivante :\n",
    "\n",
    "|   &nbsp;   | A | C | G | T | - |\n",
    "|   -   | - | - | - | - | - |\n",
    "| **A** | 1 | 0 | 0 | 0 | 0 |\n",
    "| **C** | 0 | 1 | 0 | 0 | 0 |\n",
    "| **G** | 0 | 0 | 1 | 0 | 0 |\n",
    "| **T** | 0 | 0 | 0 | 1 | 0 |\n",
    "| **-** | 0 | 0 | 0 | 0 | 0 |\n",
    "\n",
    "Cette matrice correspond au modèle d'évolution de l'ADN défini par Jukes et Cantor qui fait l'hypothèse d'un taux de mutation équivalent pour chacun des nucléotides. Cependant, en réalité ces taux ne sont pas les mêmes partout, on sait par exemple que le taux de transition (substitution A$\\leftrightarrow$G ou C$\\leftrightarrow$T) est différent du taux de transversions (substitution A$\\leftrightarrow$T, C$\\leftrightarrow$G, C$\\leftrightarrow$A ou G$\\leftrightarrow$T) et que d'autres facteurs devrait être pris en compte comme la fréquence du nucléotide dans l'ADN. [C'est pour cette raison qu'il existe beaucoup de modèles différents d'écrivant l'évolution de l'ADN.](https://en.wikipedia.org/wiki/Models_of_DNA_evolution) Dans la suite de ce projet nous utiliserons la matrice de similarité $S$ suivante : \n",
    "\n",
    "|   &nbsp;   | A  | C  | G  | T  | -  |\n",
    "|   -   | -  | -  | -  | -  | -  |\n",
    "| **A** | 10 | -1 | -3 | -4 | -5 |\n",
    "| **C** | -1 | 7  | -5 | -3 | -5 |\n",
    "| **G** | -3 | -5 | 9  | 0  | -5 |\n",
    "| **T** | -4 | -3 | 0  | 8  | -5 |\n",
    "| **-** | -5 | -5 | -5 | -5 | 0  |\n",
    "\n",
    "**Exercice 2 :** Écriver la fonction permettant de calculer le score entre deux alignements avec la matrice de similarité précédente puis afficher le score des trois alignements $A_1$, $A_2$ et $A_3$. La classe permettant d'importer une matrice et de calculer le score entre deux lettres vous est déjà fournie, la matrice de similarité est stockée dans le fichier `dna_matrix` :\n"
   ]
  },
  {
   "cell_type": "code",
   "execution_count": 3,
   "metadata": {},
   "outputs": [
    {
     "name": "stdout",
     "output_type": "stream",
     "text": [
      "Score between G and C: -5.0\n",
      "Score between A and a gap: -5.0\n"
     ]
    }
   ],
   "source": [
    "import numpy as np\n",
    "\n",
    "\n",
    "class SimilarityMatrix:\n",
    "    def __init__(self, filename):\n",
    "        with open(filename) as f:\n",
    "            self.letters = f.readline().split()\n",
    "            self.values = np.loadtxt(filename, skiprows=1, usecols=range(1, len(self.letters) + 1))\n",
    "        \n",
    "    def score(self, letter1, letter2): # return the similarity score between letter1 and letter2\n",
    "        return self.values[self.letters.index(letter1)][self.letters.index(letter2)]\n",
    "    \n",
    "# Example\n",
    "similarity_matrix = SimilarityMatrix('dna_matrix')\n",
    "print('Score between G and C:', similarity_matrix.score('G', 'C'))\n",
    "print('Score between A and a gap:', similarity_matrix.score('-', 'A'))"
   ]
  },
  {
   "cell_type": "code",
   "execution_count": 4,
   "metadata": {},
   "outputs": [
    {
     "name": "stdout",
     "output_type": "stream",
     "text": [
      "35.0\n",
      "49.0\n",
      "39.0\n"
     ]
    }
   ],
   "source": [
    "# À remplir\n",
    "def score_alignements(a1, a2, similarity_matrix):\n",
    "    aux = 0\n",
    "    for i, j in zip(a1, a2):\n",
    "        aux+=similarity_matrix.score(i, j)\n",
    "    return aux\n",
    "        \n",
    "print(score_alignements('-ACTCCTGA', 'ATCTCGTGA', similarity_matrix))\n",
    "print(score_alignements('A-CTCCTGA', 'ATCTCGTGA', similarity_matrix))\n",
    "print(score_alignements('AC-TCCTGA', 'ATCTCGTGA', similarity_matrix))"
   ]
  },
  {
   "cell_type": "markdown",
   "metadata": {},
   "source": [
    "------\n",
    "### Algorithme de Needleman-Wunsch\n",
    "\n",
    "Maintenant que vous avez vu ce qu'est une matrice de similarité et comment calculer le score de similarité d'un alignement, vous allez devoir implémenter un algorithme permettant de trouver le meilleur alignement global entre deux séquences. Avec deux séquences à aligner de taille $n$ et $m$, la première étape consiste à initialiser deux matrices de taille $(n+1) \\times (m+1)$. La première est la matrice de score $M$ et la seconde sera la matrice de *traceback* $T$. \n",
    "\n",
    "Par exemple, avec la matrice $S$ et les séquences $A =$ \"ACTCCTGA\" et $B =$ \"ATCTCGTGA\", on initialise $M$ comme si l'on ajoutait des *gaps* partout :\n",
    "\n",
    "|   &nbsp;   | - | A | T | C | T | C | G | T | G | A |\n",
    "|   -   | - | - | - | - | - | - | - | - | - | - |\n",
    "| **-** | 0 |-5 |-10|-15|-20|-25|-30|-35|-40|-45|\n",
    "| **A** |-5 | &nbsp; | &nbsp; | &nbsp; | &nbsp; | &nbsp; | &nbsp; | &nbsp; | &nbsp; | &nbsp; |\n",
    "| **C** |-10| &nbsp; | &nbsp; | &nbsp; | &nbsp; | &nbsp; | &nbsp; | &nbsp; | &nbsp; | &nbsp; |\n",
    "| **T** |-15| &nbsp; | &nbsp; | &nbsp; | &nbsp; | &nbsp; | &nbsp; | &nbsp; | &nbsp; | &nbsp; |\n",
    "| **C** |-20| &nbsp; | &nbsp; | &nbsp; | &nbsp; | &nbsp; | &nbsp; | &nbsp; | &nbsp; | &nbsp; |\n",
    "| **C** |-25| &nbsp; | &nbsp; | &nbsp; | &nbsp; | &nbsp; | &nbsp; | &nbsp; | &nbsp; | &nbsp; |\n",
    "| **T** |-30| &nbsp; | &nbsp; | &nbsp; | &nbsp; | &nbsp; | &nbsp; | &nbsp; | &nbsp; | &nbsp; |\n",
    "| **G** |-45| &nbsp; | &nbsp; | &nbsp; | &nbsp; | &nbsp; | &nbsp; | &nbsp; | &nbsp; | &nbsp; |\n",
    "| **A** |-40| &nbsp; | &nbsp; | &nbsp; | &nbsp; | &nbsp; | &nbsp; | &nbsp; | &nbsp; | &nbsp; ||\n",
    "\n",
    "Puis on initialise $T$ :\n",
    "\n",
    "|   &nbsp;   | - | A | T | C | T | C | G | T | G | A |\n",
    "|   -   | - | - | - | - | - | - | - | - | - | - |\n",
    "| **-** | o | l | l | l | l | l | l | l | l | l |\n",
    "| **A** | u | &nbsp; | &nbsp; | &nbsp; | &nbsp; | &nbsp; | &nbsp; | &nbsp; | &nbsp; | &nbsp; |\n",
    "| **C** | u | &nbsp; | &nbsp; | &nbsp; | &nbsp; | &nbsp; | &nbsp; | &nbsp; | &nbsp; | &nbsp; |\n",
    "| **T** | u | &nbsp; | &nbsp; | &nbsp; | &nbsp; | &nbsp; | &nbsp; | &nbsp; | &nbsp; | &nbsp; |\n",
    "| **C** | u | &nbsp; | &nbsp; | &nbsp; | &nbsp; | &nbsp; | &nbsp; | &nbsp; | &nbsp; | &nbsp; |\n",
    "| **C** | u | &nbsp; | &nbsp; | &nbsp; | &nbsp; | &nbsp; | &nbsp; | &nbsp; | &nbsp; | &nbsp; |\n",
    "| **T** | u | &nbsp; | &nbsp; | &nbsp; | &nbsp; | &nbsp; | &nbsp; | &nbsp; | &nbsp; | &nbsp; |\n",
    "| **G** | u | &nbsp; | &nbsp; | &nbsp; | &nbsp; | &nbsp; | &nbsp; | &nbsp; | &nbsp; | &nbsp; |\n",
    "| **A** | u | &nbsp; | &nbsp; | &nbsp; | &nbsp; | &nbsp; | &nbsp; | &nbsp; | &nbsp; | &nbsp; ||\n",
    "\n",
    "\n",
    "Il faut ensuite remplir la matrice $M$ en suivant la formule $M_{ij} = \\max(M_{i-1j-1} + s(A_i, B_j), M_{ij-1} + s(A_i, gap), M_{i-1j} + s(B_j,gap) )$ avec $i \\in {2, \\dots, n+1}$, $j \\in {2, \\dots, m+1}$ et la fonction $s$ qui calcule le score de similarité entre deux nucléotides. Pour chaque case de $T$ on remplie par :\n",
    "- 'd' (*diagonal*) si $M_{ij}$ a été calculé en utilisant la diagonale $M_{i-1j-1}$,\n",
    "- 'l' (*left*) si $M_{ij}$ a été calculé en utilisant la case de gauche $M_{ij-1}$,\n",
    "- 'u' (*up*) si $M_{ij}$ a été calculé en utilisant la case du haut $M_{i-1j}$.\n",
    "\n",
    "On obtient alors les matrices suivantes $M$ et $T$ : \n",
    "\n",
    "|   &nbsp;   | - | A | T | C | T | C | G | T | G | A |\n",
    "|   -   | - | - | - | - | - | - | - | - | - | - |\n",
    "| **-** |  0| -5|-10|-15|-20|-25|-30|-35|-40|-45|\n",
    "| **A** | -5| 10|  5|  0| -5|-10|-15|-20|-25|-30|\n",
    "| **C** |-10|  5|  7| 12|  7|  2| -3| -8|-13|-18|\n",
    "| **T** |-15|  0| 13|  8| 20| 15| 10|  5|  0| -5|\n",
    "| **C** |-20| -5|  8| 20| 15| 27| 22| 17| 12|  7|\n",
    "| **C** |-25|-10|  3| 15| 17| 22| 22| 19| 14| 11|\n",
    "| **T** |-30|-15| -2| 10| 23| 18| 22| 30| 25| 20|\n",
    "| **G** |-35|-20| -7|  5| 18| 18| 27| 25| 39| 34|\n",
    "| **A** |-40|-25|-12|  0| 13| 17| 22| 23| 34| 49|\n",
    "\n",
    "|   &nbsp;   | - | A | T | C | T | C | G | T | G | A |\n",
    "|   -   | - | - | - | - | - | - | - | - | - | - |\n",
    "| **-** | o | l | l | l | l | l | l | l | l | l |\n",
    "| **A** | u | d | l | l | l | l | l | l | l | d |\n",
    "| **C** | u | u | d | d | l | d | l | l | l | l |\n",
    "| **T** | u | u | d | l | d | l | l | d | l | l |\n",
    "| **C** | u | u | u | d | l | d | l | l | l | l |\n",
    "| **C** | u | u | u | d | d | d | d | d | l | d |\n",
    "| **T** | u | u | d | u | d | l | d | d | l | l |\n",
    "| **G** | u | u | u | u | u | d | d | u | d | l |\n",
    "| **A** | u | d | u | u | u | d | u | d | u | d |\n",
    "\n",
    "Il suffit maintenant de regarder le dernier élément $M_{nm} = 49$ pour avoir le score de l'alignement. Pour avoir l'alignement lui-même, il faut partir de $T_{nm}$ et remonter la \"trace\" jusqu'à arriver au 'o'. Un 'd' correspond à un *match* entre les deux séquences, 'l' à un *gap* dans la séquence $A$ et 'u' à un *gap* dans la séquence $B$. En revenant à l'exemple précédent on obtient la trace suivante :\n",
    "\n",
    "|   &nbsp;   | - | A | T | C | T | C | G | T | G | A |\n",
    "|   -   | - | - | - | - | - | - | - | - | - | - |\n",
    "| **-** | o | &nbsp; | &nbsp; | &nbsp; | &nbsp; | &nbsp; | &nbsp; | &nbsp; | &nbsp; | &nbsp; |\n",
    "| **A** | &nbsp; | d | l | &nbsp; | &nbsp; | &nbsp; | &nbsp; | &nbsp; | &nbsp; | &nbsp; |\n",
    "| **C** | &nbsp; | &nbsp; | &nbsp; | d | &nbsp; | &nbsp; | &nbsp; | &nbsp; | &nbsp; | &nbsp; |\n",
    "| **T** | &nbsp; | &nbsp; | &nbsp; | &nbsp; | d | &nbsp; | &nbsp; | &nbsp; | &nbsp; | &nbsp; |\n",
    "| **C** | &nbsp; | &nbsp; | &nbsp; | &nbsp; | &nbsp; | d | &nbsp; | &nbsp; | &nbsp; | &nbsp; |\n",
    "| **C** | &nbsp; | &nbsp; | &nbsp; | &nbsp; | &nbsp; | &nbsp; | d | &nbsp; | &nbsp; | &nbsp; |\n",
    "| **T** | &nbsp; | &nbsp; | &nbsp; | &nbsp; | &nbsp; | &nbsp; | &nbsp; | d | &nbsp; | &nbsp; |\n",
    "| **G** | &nbsp; | &nbsp; | &nbsp; | &nbsp; | &nbsp; | &nbsp; | &nbsp; | &nbsp; | d | &nbsp; |\n",
    "| **A** | &nbsp; | &nbsp; | &nbsp; | &nbsp; | &nbsp; | &nbsp; | &nbsp; | &nbsp; | &nbsp; | d |\n",
    "\n",
    "Elle correspond à l'alignement :\n",
    "```\n",
    "A-CTCCTGA\n",
    "ATCTCGTGA\n",
    "```\n",
    "\n",
    "**Exercice 3 :** Implémenter l'algorithme de Needlman et Wunsch. Il prendra en paramètre deux séquences et une matrice de similarité et retournera leur alignement. Tester le avec les séquences \"ACTCCTGA\" et \"ATCTCGTGA\"."
   ]
  },
  {
   "cell_type": "code",
   "execution_count": 5,
   "metadata": {},
   "outputs": [
    {
     "name": "stdout",
     "output_type": "stream",
     "text": [
      "A-CTCCTGA ATCTCGTGA\n"
     ]
    }
   ],
   "source": [
    "# À remplir\n",
    "def create_matrix(seq1, seq2):\n",
    "    len1 = len(seq1)\n",
    "    len2 = len(seq2)\n",
    "    M = np.zeros((len1+1, len2+1))\n",
    "    T = np.empty([len1+1, len2+1], dtype=str)\n",
    "    l1 = [-i for i in range(0, (len2+1)*5, 5)]\n",
    "    l2 = [\"l\" for i in range(len2+1)] \n",
    "    l3 = [\"u\" for i in range(len2+1)]\n",
    "    M[0:,0] = l1[:-1]\n",
    "    M[0,] = l1\n",
    "    T[0:,0] = l3[:-1]\n",
    "    T[0,] = l2\n",
    "    T[0][0]='o'\n",
    "    return M, T\n",
    "\n",
    "def fill_matrix(seq1, seq2, similarity_matrix, M, T):\n",
    "    s1 = [i for i in seq1]\n",
    "    s2 = [i for i in seq2]\n",
    "    s1.insert(0, '-')\n",
    "    s2.insert(0, '-')\n",
    "    aux = {}\n",
    "    for i in range(1,len(M)):\n",
    "        for j in range(1,len(M[i])):\n",
    "            aux['u'] = M[i-1][j] -5\n",
    "            aux['l'] = M[i][j-1] -5 \n",
    "            aux['d'] = M[i-1][j-1] + similarity_matrix.score(s1[i], s2[j])\n",
    "            final = max(aux, key=aux.get)\n",
    "            M[i][j] = aux[final]\n",
    "            T[i][j] = final\n",
    "            \n",
    "def traceback(seq1, seq2, T):\n",
    "    alignement1 = ''\n",
    "    alignement2 = ''\n",
    "    i = len(T)-1\n",
    "    j = len(T[0])-1\n",
    "    actual = T[i][j]\n",
    "    \n",
    "    stop=False\n",
    "    while not stop:\n",
    "        if seq1[i-1] == seq2[j-1]:\n",
    "            alignement1+=seq1[i-1]\n",
    "            alignement2+=seq1[i-1]\n",
    "            i-=1\n",
    "            j-=1\n",
    "        else:\n",
    "            if actual == 'l': #case LEFT\n",
    "                alignement1+='-'\n",
    "                alignement2+=seq2[j-1]\n",
    "                j-=1\n",
    "            elif actual == 'u': #case UP\n",
    "                alignement1+=seq1[i-1]\n",
    "                alignement2+='-'\n",
    "                i-=1\n",
    "            else: #actual == 'd'CASE DIAGONAL\n",
    "                alignement1+=seq1[i-1]\n",
    "                alignement2+=seq2[j-1]\n",
    "                i-=1\n",
    "                j-=1\n",
    "        actual = T[i][j]\n",
    "        if actual == 'o':\n",
    "            stop = True\n",
    "            alignement1 = alignement1[::-1]\n",
    "            alignement2 = alignement2[::-1]\n",
    "            \n",
    "    return alignement1, alignement2\n",
    "\n",
    "def needlemandwunsch(seq1, seq2, similarity_matrix):\n",
    "    \n",
    "    M, T = create_matrix(seq1, seq2)\n",
    "    \n",
    "    fill_matrix(seq1, seq2, similarity_matrix, M, T)\n",
    "    \n",
    "    alignement1, alignement2 = traceback(seq1, seq2, T)    \n",
    "    \n",
    "    return alignement1, alignement2\n",
    "\n",
    "seq1 = \"ACTCCTGA\" \n",
    "seq2 = \"ATCTCGTGA\"\n",
    "a1, a2 = needlemandwunsch(seq1, seq2, similarity_matrix)\n",
    "print(a1, a2)"
   ]
  },
  {
   "cell_type": "markdown",
   "metadata": {},
   "source": [
    "----\n",
    "## Matrice de distance\n",
    "\n",
    "Dans le cas de séquences très proches, on estime que la distance évolutive réelle entre les séquences est proche de la p-distance qui est simplement le nombre de substitution dans l'alignement sur le nombre total de nucléotide. Pour simplifier, on ignore les positions alignées à des gaps. On applique ensuite la correction de Jukes-Cantor afin de prendre en compte le phénomène de saturation (un même site peut muter plusieurs fois au cours du temps). Sa formule est $-(\\frac{3}{4})\\ln(1-(\\frac{4}{3})\\times \\textit{p-distance})$.\n",
    "\n",
    "**Exercice 4 :** Implémenter la fonction retournant la matrice de distance à partir d'un dictionnaire de séquences. "
   ]
  },
  {
   "cell_type": "code",
   "execution_count": 8,
   "metadata": {
    "scrolled": true
   },
   "outputs": [
    {
     "name": "stdout",
     "output_type": "stream",
     "text": [
      "0.1202569876\n"
     ]
    }
   ],
   "source": [
    "# À remplir\n",
    "def calculer_distance(seq1, seq2):\n",
    "    compt=0\n",
    "    for i,j in zip(seq1, seq2):\n",
    "        if not (i == '-' or j =='-'):\n",
    "            if i != j:\n",
    "                compt+=1\n",
    "    compt = compt/len(seq2)\n",
    "    \n",
    "    return round(-(3.0/4.0)*np.log(1-(4.0/3.0)*compt), 10)\n",
    "print(calculer_distance(a1, a2))\n",
    "#well compt must be less than 3/4 for this to work correctly, cause the log has to take a positive value"
   ]
  },
  {
   "cell_type": "code",
   "execution_count": 9,
   "metadata": {},
   "outputs": [],
   "source": [
    "#hay q calcular las distancias entre todas las parejas del documento cat_dna.fasta (el diccionario es el del ej1)"
   ]
  },
  {
   "cell_type": "code",
   "execution_count": 11,
   "metadata": {},
   "outputs": [
    {
     "name": "stdout",
     "output_type": "stream",
     "text": [
      "Sabertooth Sabertooth\n",
      "Sabertooth Homotherium\n",
      "Sabertooth American\n",
      "Sabertooth Spotted\n",
      "Sabertooth Striped\n",
      "Sabertooth Chinese\n",
      "Sabertooth African\n",
      "Sabertooth Felis\n",
      "Sabertooth Wild\n",
      "Sabertooth Cheetah\n",
      "Sabertooth Puma\n",
      "Sabertooth Tiger\n",
      "Sabertooth Lion\n",
      "Sabertooth Leopard\n",
      "Sabertooth Dog\n",
      "Sabertooth Wolf\n",
      "Sabertooth Black\n",
      "Homotherium Sabertooth\n",
      "Homotherium Homotherium\n",
      "Homotherium American\n",
      "Homotherium Spotted\n",
      "Homotherium Striped\n",
      "Homotherium Chinese\n",
      "Homotherium African\n",
      "Homotherium Felis\n",
      "Homotherium Wild\n",
      "Homotherium Cheetah\n",
      "Homotherium Puma\n",
      "Homotherium Tiger\n",
      "Homotherium Lion\n",
      "Homotherium Leopard\n",
      "Homotherium Dog\n",
      "Homotherium Wolf\n",
      "Homotherium Black\n",
      "American Sabertooth\n",
      "American Homotherium\n",
      "American American\n",
      "American Spotted\n",
      "American Striped\n",
      "American Chinese\n",
      "American African\n",
      "American Felis\n",
      "American Wild\n",
      "American Cheetah\n",
      "American Puma\n",
      "American Tiger\n",
      "American Lion\n",
      "American Leopard\n",
      "American Dog\n",
      "American Wolf\n",
      "American Black\n",
      "Spotted Sabertooth\n",
      "Spotted Homotherium\n",
      "Spotted American\n",
      "Spotted Spotted\n",
      "Spotted Striped\n",
      "Spotted Chinese\n",
      "Spotted African\n",
      "Spotted Felis\n",
      "Spotted Wild\n",
      "Spotted Cheetah\n",
      "Spotted Puma\n",
      "Spotted Tiger\n",
      "Spotted Lion\n",
      "Spotted Leopard\n",
      "Spotted Dog\n",
      "Spotted Wolf\n",
      "Spotted Black\n",
      "Striped Sabertooth\n",
      "Striped Homotherium\n",
      "Striped American\n",
      "Striped Spotted\n",
      "Striped Striped\n",
      "Striped Chinese\n",
      "Striped African\n",
      "Striped Felis\n",
      "Striped Wild\n",
      "Striped Cheetah\n",
      "Striped Puma\n",
      "Striped Tiger\n",
      "Striped Lion\n",
      "Striped Leopard\n",
      "Striped Dog\n",
      "Striped Wolf\n",
      "Striped Black\n",
      "Chinese Sabertooth\n",
      "Chinese Homotherium\n",
      "Chinese American\n",
      "Chinese Spotted\n",
      "Chinese Striped\n",
      "Chinese Chinese\n",
      "Chinese African\n",
      "Chinese Felis\n",
      "Chinese Wild\n",
      "Chinese Cheetah\n",
      "Chinese Puma\n",
      "Chinese Tiger\n",
      "Chinese Lion\n",
      "Chinese Leopard\n",
      "Chinese Dog\n",
      "Chinese Wolf\n",
      "Chinese Black\n",
      "African Sabertooth\n",
      "African Homotherium\n",
      "African American\n",
      "African Spotted\n",
      "African Striped\n",
      "African Chinese\n",
      "African African\n",
      "African Felis\n",
      "African Wild\n",
      "African Cheetah\n",
      "African Puma\n",
      "African Tiger\n",
      "African Lion\n",
      "African Leopard\n",
      "African Dog\n",
      "African Wolf\n",
      "African Black\n",
      "Felis Sabertooth\n",
      "Felis Homotherium\n",
      "Felis American\n",
      "Felis Spotted\n",
      "Felis Striped\n",
      "Felis Chinese\n",
      "Felis African\n",
      "Felis Felis\n",
      "Felis Wild\n",
      "Felis Cheetah\n",
      "Felis Puma\n",
      "Felis Tiger\n",
      "Felis Lion\n",
      "Felis Leopard\n",
      "Felis Dog\n",
      "Felis Wolf\n",
      "Felis Black\n",
      "Wild Sabertooth\n",
      "Wild Homotherium\n",
      "Wild American\n",
      "Wild Spotted\n",
      "Wild Striped\n",
      "Wild Chinese\n",
      "Wild African\n",
      "Wild Felis\n",
      "Wild Wild\n",
      "Wild Cheetah\n",
      "Wild Puma\n",
      "Wild Tiger\n",
      "Wild Lion\n",
      "Wild Leopard\n",
      "Wild Dog\n",
      "Wild Wolf\n",
      "Wild Black\n",
      "Cheetah Sabertooth\n",
      "Cheetah Homotherium\n",
      "Cheetah American\n",
      "Cheetah Spotted\n",
      "Cheetah Striped\n",
      "Cheetah Chinese\n",
      "Cheetah African\n",
      "Cheetah Felis\n",
      "Cheetah Wild\n",
      "Cheetah Cheetah\n",
      "Cheetah Puma\n",
      "Cheetah Tiger\n",
      "Cheetah Lion\n",
      "Cheetah Leopard\n",
      "Cheetah Dog\n",
      "Cheetah Wolf\n",
      "Cheetah Black\n",
      "Puma Sabertooth\n",
      "Puma Homotherium\n",
      "Puma American\n",
      "Puma Spotted\n",
      "Puma Striped\n",
      "Puma Chinese\n",
      "Puma African\n",
      "Puma Felis\n",
      "Puma Wild\n",
      "Puma Cheetah\n",
      "Puma Puma\n",
      "Puma Tiger\n",
      "Puma Lion\n",
      "Puma Leopard\n",
      "Puma Dog\n",
      "Puma Wolf\n",
      "Puma Black\n",
      "Tiger Sabertooth\n",
      "Tiger Homotherium\n",
      "Tiger American\n",
      "Tiger Spotted\n",
      "Tiger Striped\n",
      "Tiger Chinese\n",
      "Tiger African\n",
      "Tiger Felis\n",
      "Tiger Wild\n",
      "Tiger Cheetah\n",
      "Tiger Puma\n",
      "Tiger Tiger\n",
      "Tiger Lion\n",
      "Tiger Leopard\n",
      "Tiger Dog\n",
      "Tiger Wolf\n",
      "Tiger Black\n",
      "Lion Sabertooth\n",
      "Lion Homotherium\n",
      "Lion American\n",
      "Lion Spotted\n",
      "Lion Striped\n",
      "Lion Chinese\n",
      "Lion African\n",
      "Lion Felis\n",
      "Lion Wild\n",
      "Lion Cheetah\n",
      "Lion Puma\n",
      "Lion Tiger\n",
      "Lion Lion\n",
      "Lion Leopard\n",
      "Lion Dog\n",
      "Lion Wolf\n",
      "Lion Black\n",
      "Leopard Sabertooth\n",
      "Leopard Homotherium\n",
      "Leopard American\n",
      "Leopard Spotted\n",
      "Leopard Striped\n",
      "Leopard Chinese\n",
      "Leopard African\n",
      "Leopard Felis\n",
      "Leopard Wild\n",
      "Leopard Cheetah\n",
      "Leopard Puma\n",
      "Leopard Tiger\n",
      "Leopard Lion\n",
      "Leopard Leopard\n",
      "Leopard Dog\n",
      "Leopard Wolf\n",
      "Leopard Black\n",
      "Dog Sabertooth\n",
      "Dog Homotherium\n",
      "Dog American\n",
      "Dog Spotted\n",
      "Dog Striped\n",
      "Dog Chinese\n",
      "Dog African\n",
      "Dog Felis\n",
      "Dog Wild\n",
      "Dog Cheetah\n",
      "Dog Puma\n",
      "Dog Tiger\n",
      "Dog Lion\n",
      "Dog Leopard\n",
      "Dog Dog\n",
      "Dog Wolf\n",
      "Dog Black\n",
      "Wolf Sabertooth\n",
      "Wolf Homotherium\n",
      "Wolf American\n",
      "Wolf Spotted\n",
      "Wolf Striped\n",
      "Wolf Chinese\n",
      "Wolf African\n",
      "Wolf Felis\n",
      "Wolf Wild\n",
      "Wolf Cheetah\n",
      "Wolf Puma\n",
      "Wolf Tiger\n",
      "Wolf Lion\n",
      "Wolf Leopard\n",
      "Wolf Dog\n",
      "Wolf Wolf\n",
      "Wolf Black\n",
      "Black Sabertooth\n",
      "Black Homotherium\n",
      "Black American\n",
      "Black Spotted\n",
      "Black Striped\n",
      "Black Chinese\n",
      "Black African\n",
      "Black Felis\n",
      "Black Wild\n",
      "Black Cheetah\n",
      "Black Puma\n",
      "Black Tiger\n",
      "Black Lion\n",
      "Black Leopard\n",
      "Black Dog\n",
      "Black Wolf\n",
      "Black Black\n"
     ]
    },
    {
     "data": {
      "text/latex": [
       "$\\displaystyle \\left[\\begin{array}{cccccccccccccccccc}0.0 & 0.0 & 0.0 & 0.0 & 0.0 & 0.0 & 0.0 & 0.0 & 0.0 & 0.0 & 0.0 & 0.0 & 0.0 & 0.0 & 0.0 & 0.0 & 0.0 & 0.0\\\\0.0 & 1.0 \\cdot 10^{-5} & 0.16035 & 0.16035 & 0.14738 & 0.19151 & 0.13463 & 0.16035 & 0.16472 & 0.16472 & 0.17355 & 0.18698 & 0.13886 & 0.15168 & 0.14311 & 0.24325 & 0.24325 & 0.24325\\\\0.0 & 0.16035 & 1.0 \\cdot 10^{-5} & 0.18698 & 0.18247 & 0.21459 & 0.18698 & 0.21929 & 0.20527 & 0.21459 & 0.20992 & 0.21459 & 0.20527 & 0.22878 & 0.20992 & 0.25801 & 0.25801 & 0.27306\\\\0.0 & 0.16035 & 0.18698 & 1.0 \\cdot 10^{-5} & 0.18698 & 0.178 & 0.10166 & 0.10977 & 0.13043 & 0.1221 & 0.0857 & 0.06238 & 0.12625 & 0.16035 & 0.16035 & 0.25306 & 0.25306 & 0.24325\\\\0.0 & 0.14738 & 0.18247 & 0.18698 & 1.0 \\cdot 10^{-5} & 0.13463 & 0.14738 & 0.18698 & 0.18247 & 0.178 & 0.19151 & 0.21459 & 0.178 & 0.20066 & 0.20066 & 0.25306 & 0.25306 & 0.25306\\\\0.0 & 0.19151 & 0.21459 & 0.178 & 0.13463 & 1.0 \\cdot 10^{-5} & 0.16912 & 0.178 & 0.19151 & 0.18698 & 0.16472 & 0.21929 & 0.20992 & 0.21459 & 0.21459 & 0.26299 & 0.26299 & 0.25306\\\\0.0 & 0.13463 & 0.18698 & 0.10166 & 0.14738 & 0.16912 & 1.0 \\cdot 10^{-5} & 0.1057 & 0.11796 & 0.10977 & 0.13043 & 0.13043 & 0.13886 & 0.14311 & 0.15168 & 0.25306 & 0.25306 & 0.2384\\\\0.0 & 0.16035 & 0.21929 & 0.10977 & 0.18698 & 0.178 & 0.1057 & 1.0 \\cdot 10^{-5} & 0.01782 & 0.01064 & 0.11385 & 0.13886 & 0.1221 & 0.156 & 0.14738 & 0.25306 & 0.25306 & 0.24814\\\\0.0 & 0.16472 & 0.20527 & 0.13043 & 0.18247 & 0.19151 & 0.11796 & 0.01782 & 1.0 \\cdot 10^{-5} & 0.01422 & 0.12625 & 0.16035 & 0.13463 & 0.16912 & 0.15168 & 0.23358 & 0.23358 & 0.24814\\\\0.0 & 0.16472 & 0.21459 & 0.1221 & 0.178 & 0.18698 & 0.10977 & 0.01064 & 0.01422 & 1.0 \\cdot 10^{-5} & 0.11796 & 0.14311 & 0.12625 & 0.16035 & 0.15168 & 0.24814 & 0.24814 & 0.26299\\\\0.0 & 0.17355 & 0.20992 & 0.0857 & 0.19151 & 0.16472 & 0.13043 & 0.11385 & 0.12625 & 0.11796 & 1.0 \\cdot 10^{-5} & 0.09764 & 0.13886 & 0.14738 & 0.18247 & 0.2384 & 0.2384 & 0.24814\\\\0.0 & 0.18698 & 0.21459 & 0.06238 & 0.21459 & 0.21929 & 0.13043 & 0.13886 & 0.16035 & 0.14311 & 0.09764 & 1.0 \\cdot 10^{-5} & 0.12625 & 0.15168 & 0.16912 & 0.26299 & 0.26299 & 0.23358\\\\0.0 & 0.13886 & 0.20527 & 0.12625 & 0.178 & 0.20992 & 0.13886 & 0.1221 & 0.13463 & 0.12625 & 0.13886 & 0.12625 & 1.0 \\cdot 10^{-5} & 0.1057 & 0.13043 & 0.26299 & 0.26299 & 0.25306\\\\0.0 & 0.15168 & 0.22878 & 0.16035 & 0.20066 & 0.21459 & 0.14311 & 0.156 & 0.16912 & 0.16035 & 0.14738 & 0.15168 & 0.1057 & 1.0 \\cdot 10^{-5} & 0.07785 & 0.25306 & 0.25306 & 0.22402\\\\0.0 & 0.14311 & 0.20992 & 0.16035 & 0.20066 & 0.21459 & 0.15168 & 0.14738 & 0.15168 & 0.15168 & 0.18247 & 0.16912 & 0.13043 & 0.07785 & 1.0 \\cdot 10^{-5} & 0.22878 & 0.22878 & 0.2384\\\\0.0 & 0.24325 & 0.25801 & 0.25306 & 0.25306 & 0.26299 & 0.25306 & 0.25306 & 0.23358 & 0.24814 & 0.2384 & 0.26299 & 0.26299 & 0.25306 & 0.22878 & 1.0 \\cdot 10^{-5} & 1.0 \\cdot 10^{-5} & 0.22402\\\\0.0 & 0.24325 & 0.25801 & 0.25306 & 0.25306 & 0.26299 & 0.25306 & 0.25306 & 0.23358 & 0.24814 & 0.2384 & 0.26299 & 0.26299 & 0.25306 & 0.22878 & 1.0 \\cdot 10^{-5} & 1.0 \\cdot 10^{-5} & 0.22402\\\\0.0 & 0.24325 & 0.27306 & 0.24325 & 0.25306 & 0.25306 & 0.2384 & 0.24814 & 0.24814 & 0.26299 & 0.24814 & 0.23358 & 0.25306 & 0.22402 & 0.2384 & 0.22402 & 0.22402 & 1.0 \\cdot 10^{-5}\\end{array}\\right]$"
      ],
      "text/plain": [
       "Matrix([\n",
       "[0.0,     0.0,     0.0,     0.0,     0.0,     0.0,     0.0,     0.0,     0.0,     0.0,     0.0,     0.0,     0.0,     0.0,     0.0,     0.0,     0.0,     0.0],\n",
       "[0.0,  1.0e-5, 0.16035, 0.16035, 0.14738, 0.19151, 0.13463, 0.16035, 0.16472, 0.16472, 0.17355, 0.18698, 0.13886, 0.15168, 0.14311, 0.24325, 0.24325, 0.24325],\n",
       "[0.0, 0.16035,  1.0e-5, 0.18698, 0.18247, 0.21459, 0.18698, 0.21929, 0.20527, 0.21459, 0.20992, 0.21459, 0.20527, 0.22878, 0.20992, 0.25801, 0.25801, 0.27306],\n",
       "[0.0, 0.16035, 0.18698,  1.0e-5, 0.18698,   0.178, 0.10166, 0.10977, 0.13043,  0.1221,  0.0857, 0.06238, 0.12625, 0.16035, 0.16035, 0.25306, 0.25306, 0.24325],\n",
       "[0.0, 0.14738, 0.18247, 0.18698,  1.0e-5, 0.13463, 0.14738, 0.18698, 0.18247,   0.178, 0.19151, 0.21459,   0.178, 0.20066, 0.20066, 0.25306, 0.25306, 0.25306],\n",
       "[0.0, 0.19151, 0.21459,   0.178, 0.13463,  1.0e-5, 0.16912,   0.178, 0.19151, 0.18698, 0.16472, 0.21929, 0.20992, 0.21459, 0.21459, 0.26299, 0.26299, 0.25306],\n",
       "[0.0, 0.13463, 0.18698, 0.10166, 0.14738, 0.16912,  1.0e-5,  0.1057, 0.11796, 0.10977, 0.13043, 0.13043, 0.13886, 0.14311, 0.15168, 0.25306, 0.25306,  0.2384],\n",
       "[0.0, 0.16035, 0.21929, 0.10977, 0.18698,   0.178,  0.1057,  1.0e-5, 0.01782, 0.01064, 0.11385, 0.13886,  0.1221,   0.156, 0.14738, 0.25306, 0.25306, 0.24814],\n",
       "[0.0, 0.16472, 0.20527, 0.13043, 0.18247, 0.19151, 0.11796, 0.01782,  1.0e-5, 0.01422, 0.12625, 0.16035, 0.13463, 0.16912, 0.15168, 0.23358, 0.23358, 0.24814],\n",
       "[0.0, 0.16472, 0.21459,  0.1221,   0.178, 0.18698, 0.10977, 0.01064, 0.01422,  1.0e-5, 0.11796, 0.14311, 0.12625, 0.16035, 0.15168, 0.24814, 0.24814, 0.26299],\n",
       "[0.0, 0.17355, 0.20992,  0.0857, 0.19151, 0.16472, 0.13043, 0.11385, 0.12625, 0.11796,  1.0e-5, 0.09764, 0.13886, 0.14738, 0.18247,  0.2384,  0.2384, 0.24814],\n",
       "[0.0, 0.18698, 0.21459, 0.06238, 0.21459, 0.21929, 0.13043, 0.13886, 0.16035, 0.14311, 0.09764,  1.0e-5, 0.12625, 0.15168, 0.16912, 0.26299, 0.26299, 0.23358],\n",
       "[0.0, 0.13886, 0.20527, 0.12625,   0.178, 0.20992, 0.13886,  0.1221, 0.13463, 0.12625, 0.13886, 0.12625,  1.0e-5,  0.1057, 0.13043, 0.26299, 0.26299, 0.25306],\n",
       "[0.0, 0.15168, 0.22878, 0.16035, 0.20066, 0.21459, 0.14311,   0.156, 0.16912, 0.16035, 0.14738, 0.15168,  0.1057,  1.0e-5, 0.07785, 0.25306, 0.25306, 0.22402],\n",
       "[0.0, 0.14311, 0.20992, 0.16035, 0.20066, 0.21459, 0.15168, 0.14738, 0.15168, 0.15168, 0.18247, 0.16912, 0.13043, 0.07785,  1.0e-5, 0.22878, 0.22878,  0.2384],\n",
       "[0.0, 0.24325, 0.25801, 0.25306, 0.25306, 0.26299, 0.25306, 0.25306, 0.23358, 0.24814,  0.2384, 0.26299, 0.26299, 0.25306, 0.22878,  1.0e-5,  1.0e-5, 0.22402],\n",
       "[0.0, 0.24325, 0.25801, 0.25306, 0.25306, 0.26299, 0.25306, 0.25306, 0.23358, 0.24814,  0.2384, 0.26299, 0.26299, 0.25306, 0.22878,  1.0e-5,  1.0e-5, 0.22402],\n",
       "[0.0, 0.24325, 0.27306, 0.24325, 0.25306, 0.25306,  0.2384, 0.24814, 0.24814, 0.26299, 0.24814, 0.23358, 0.25306, 0.22402,  0.2384, 0.22402, 0.22402,  1.0e-5]])"
      ]
     },
     "metadata": {},
     "output_type": "display_data"
    }
   ],
   "source": [
    "from sympy import Matrix\n",
    "matrix2 = np.zeros([len(dic_data), len(dic_data)], dtype = float)\n",
    "matrix2[0][0] = 0\n",
    "names = list(dic_data.keys())\n",
    "names.insert(0, '')\n",
    "\n",
    "for i in range(1,len(dic_data)):\n",
    "    for j in range(1,len(dic_data)):\n",
    "        print(names[i], names[j])\n",
    "        val = round(calculer_distance(dic_data[names[i]], dic_data[names[j]]), 5)\n",
    "        if val < 0.01:\n",
    "            val = 0.00001\n",
    "        matrix2[i][j] = val\n",
    "        #print(matrix2[i][j],\",\",val)\n",
    "\n",
    "#init_printing()\n",
    "#display(matrix)\n",
    "display(Matrix(matrix2))"
   ]
  },
  {
   "cell_type": "markdown",
   "metadata": {},
   "source": [
    "------\n",
    "## Construction d'un arbre avec UPGMA\n",
    "\n",
    "Grâce aux mesures de distances entre les séquences, on peut maintenant de construire l'arbre phylogénétique des globines. Vous allez devoir pour cela implémenter l'algorithme UPGMA (*unweighted pair group method with arithmetic mean*) qui, malgré son nom compliqué, est l'une des méthodes les plus simples pour la construction d'arbre.\n",
    "\n",
    "### Le format Newick\n",
    "\n",
    "Le format Newick est l'un des formats utilisé en phylogénie pour représenter un arbre sous la forme d'une chaine de caractère. Le principe est simple, les groupes ayant la même racine sont écrit entre parenthèses et séparés par des virgules. Un groupe peut être soit une feuille de l'arbre (dans notre cas une séquence), soit un autre groupe. La longueur de la branche de chaque groupe est écrite après un double point et l'arbre est terminé par un point virgule. Pour afficher l'arbre on peut utiliser les fonction du package ETE : "
   ]
  },
  {
   "cell_type": "code",
   "execution_count": 12,
   "metadata": {
    "scrolled": true
   },
   "outputs": [
    {
     "name": "stdout",
     "output_type": "stream",
     "text": [
      "Defaulting to user installation because normal site-packages is not writeable\n",
      "Requirement already satisfied: ete3 in /home/tp-home011/9ed629ea-bbd5-4d66-935e-bbe00f4a263c/.local/lib/python3.8/site-packages (3.1.2)\n"
     ]
    }
   ],
   "source": [
    "!pip install ete3"
   ]
  },
  {
   "cell_type": "code",
   "execution_count": 13,
   "metadata": {},
   "outputs": [
    {
     "data": {
      "image/png": "[encoded data removed]",
      "text/plain": [
       "<IPython.core.display.Image object>"
      ]
     },
     "execution_count": 13,
     "metadata": {},
     "output_type": "execute_result"
    }
   ],
   "source": [
    "from ete3 import Tree, TreeStyle\n",
    "\n",
    "newick_tree = '((A:2,(B:2,C:3):5):5,D:4);'\n",
    "t = Tree(newick_tree)\n",
    "ts = TreeStyle()\n",
    "ts.show_branch_length = True\n",
    "t.render('%%inline', w=183, units='mm', tree_style=ts)"
   ]
  },
  {
   "cell_type": "markdown",
   "metadata": {},
   "source": [
    "**Exercice 5 :** Reécriver l'arbre suivant au format Newick puis afficher-le. Les nombres correspondent aux longueurs des branches :\n",
    "![](tree.png)"
   ]
  },
  {
   "cell_type": "code",
   "execution_count": 14,
   "metadata": {},
   "outputs": [
    {
     "data": {
      "image/png": "[encoded data removed]",
      "text/plain": [
       "<IPython.core.display.Image object>"
      ]
     },
     "execution_count": 14,
     "metadata": {},
     "output_type": "execute_result"
    }
   ],
   "source": [
    "# À remplir\n",
    "newick_tree_ex5 = '((A:10, B:8, C:7):5, (D:9,(E:5,F:5):2):2);'\n",
    "t = Tree(newick_tree_ex5)\n",
    "ts = TreeStyle()\n",
    "ts.show_branch_length = True\n",
    "t.render('%%inline', w=183, units='mm', tree_style=ts)"
   ]
  },
  {
   "cell_type": "markdown",
   "metadata": {},
   "source": [
    "**Exercice 6 :** Expliquer la relation de parenté entre $A$, $B$ et $C$ ? Qu'elles sont les hypothèses qui pourraient expliquer ce type d'embranchement dans un arbre ? Donner une réponse détaillée."
   ]
  },
  {
   "cell_type": "markdown",
   "metadata": {},
   "source": [
    "Réponse : "
   ]
  },
  {
   "cell_type": "markdown",
   "metadata": {},
   "source": [
    "### UPGMA\n",
    "\n",
    "L'algorithme UPGMA se base sur la matrice de distance entre les séquences. À chaque itération, les séquences avec la distance la plus faible sont regroupées puis une nouvelle matrice de distance est calculée avec le nouveau groupe. Cette étape est répétée jusqu'à n'avoir plus qu'un seul groupe. Par exemple, avec la matrice de distance entre les séquences $A$, $B$, $C$ et $D$ suivante :\n",
    "\n",
    "|   &nbsp;   | A | B | C | D |\n",
    "|   -   | - | - | - | - |\n",
    "| **A** | &nbsp; | &nbsp; | &nbsp; | &nbsp; |\n",
    "| **B** | 4 | &nbsp; | &nbsp; | &nbsp; |\n",
    "| **C** | 8 | 8 | &nbsp; | &nbsp; |\n",
    "| **D** | 2 | 4 | 8 | &nbsp; |\n",
    "\n",
    "Les séquences $A$ et $D$ sont les plus proches ($distance(A,D)=2$). On les regroupe et on met à jour la matrice :\n",
    "\n",
    "|   &nbsp;   | (A, D) | B | C |\n",
    "|   -   | - | - | - |\n",
    "| **(A, D)** | &nbsp; | &nbsp; | &nbsp; |\n",
    "| **B** | 4 | &nbsp; | &nbsp; |\n",
    "| **C** | 8 | 8 | &nbsp; | &nbsp; |\n",
    "\n",
    "On regroupe maintenant $(A,D)$ et $B$ ($distance((A,D),B) = 4$) :\n",
    "\n",
    "|   &nbsp;   | ((A, D), B) | C |\n",
    "|   -   | - | - |\n",
    "| **((A, D), B)** | &nbsp; | &nbsp; |\n",
    "| **C** | 8 | &nbsp; |\n",
    "\n",
    "Important : les nouvelles distances sont calculées en moyennant les distances entre les membres du nouveau groupe et des groupes non modifiés pondéré par le nombre d'UTOs dans chaque groupe. Avec $i$ et $j$ les deux membres du groupe nouvellement formé et k les groupes restant : $d_{ij,k} = \\frac{n_id_{ik}}{n_i + n_j}+ \\frac{n_jd_{jk}}{n_i + n_j}$. Par exemple avec la distance entre $((A, D), B)$ et $C$:\n",
    "\n",
    "$distance(((A, D), B), C) = (distance((A, D), C)*2 + distance(B, C)) \\mathbin{/} 3 = (8*2 + 8) \\mathbin{/} 3 = 8 $.\n",
    "\n",
    "L'arbre final écrit dans le format Newick est : $((A, D), B), C);$ \n",
    "\n",
    "Et avec les distances : $((A:1, D:1):1, B:2):2, C:4);$ \n",
    "\n",
    "**Exercice 7 :** Implémenter une version d'UPGMA qui calcule l'arbre au format Newick **avec les distances** puis appliquer votre algorithme aux données. "
   ]
  },
  {
   "cell_type": "code",
   "execution_count": 15,
   "metadata": {},
   "outputs": [
    {
     "data": {
      "image/png": "[encoded data removed]",
      "text/plain": [
       "<IPython.core.display.Image object>"
      ]
     },
     "execution_count": 15,
     "metadata": {},
     "output_type": "execute_result"
    }
   ],
   "source": [
    "newick_tree = '(((A:1, D:1):1, B:2):2, C:4);'\n",
    "t = Tree(newick_tree)\n",
    "ts = TreeStyle()\n",
    "ts.show_branch_length = True\n",
    "t.render('%%inline', w=183, units='mm', tree_style=ts)"
   ]
  },
  {
   "cell_type": "code",
   "execution_count": 16,
   "metadata": {},
   "outputs": [],
   "source": [
    "#m = ((('A', 'B'), 'C'), ('D', ('A','E')))\n",
    "#'(((A:1, D:1):1, B:2):2, C:4);'\n",
    "#{((('A', 'D'), 'B'), 'C'): 8.0}\n",
    "def len_tup(tup):\n",
    "    if len(tup)==1:\n",
    "        return 1\n",
    "    else:        \n",
    "        return len_tup(tup[0])+len_tup(tup[1])\n",
    "\n",
    "def dist(key):\n",
    "    return (counti * d)/len(m)"
   ]
  },
  {
   "cell_type": "code",
   "execution_count": 22,
   "metadata": {},
   "outputs": [
    {
     "name": "stdout",
     "output_type": "stream",
     "text": [
      "branch_length {'A': 1.0, 'B': 2.0, 'C': 4.0, 'D': 1.0, ('A', 'D'): 1.0, (('A', 'D'), 'B'): 2.0, ((('A', 'D'), 'B'), 'C'): 4.0}\n",
      "(((A:1.0,D:1.0):1.0,B:2.0):2.0,C:4.0);\n"
     ]
    }
   ],
   "source": [
    "import copy\n",
    "d = {('A', 'B'): 4, ('A', 'C'): 8, ('A', 'D'): 2, ('B', 'C'): 8, ('B', 'D'): 4, ('C', 'D'): 8}\n",
    "indices = ['A', 'B', 'C', 'D']\n",
    "\n",
    "\n",
    "def upgma(d, indices):\n",
    "    final_tree = ''\n",
    "    d2 = copy.deepcopy(d)\n",
    "    branch_length = dict(zip(indices, [0 for i in range(len(indices))]))\n",
    "    \n",
    "    while len(d) > 1:\n",
    "        #Find closest pair in distance matrix d\n",
    "        m = min(d, key=d.get)\n",
    "        temp = []\n",
    "        counti = len_tup(m[0])\n",
    "        countj = len_tup(m[1])\n",
    "        #Add new node in tree\n",
    "        to_remove = []\n",
    "        \n",
    "        for i in indices:\n",
    "            new_dist = 0\n",
    "            calculated = False\n",
    "            for j in indices:\n",
    "                if i not in m and j in m:\n",
    "                    calculated = True\n",
    "                    new = (m,i)\n",
    "                    try:\n",
    "                        new_dist = new_dist + (len_tup(j) * d[(j,i)])/len_tup(m)\n",
    "                        to_remove.append((j,i))\n",
    "                    except:\n",
    "                        new_dist = new_dist + (len_tup(i) * d[(i,j)])/len_tup(m)\n",
    "                        to_remove.append((i,j))\n",
    "                    \n",
    "            #calculate the new distances\n",
    "            if calculated:\n",
    "                d[new]=new_dist\n",
    "                d2[new]=new_dist\n",
    "                #length of the branch\n",
    "            if m not in temp:\n",
    "                temp.insert(0,m)\n",
    "\n",
    "        indices += temp\n",
    "        branch_length[m] = d[m]/2\n",
    "        branch_length[m[0]]=d[m]/2-branch_length[m[0]]\n",
    "        branch_length[m[1]]=d[m]/2-branch_length[m[1]]\n",
    "        if len_tup(m)==2:\n",
    "            final_tree='('+final_tree+str(m[0])+':'+str(branch_length[m[0]])+','+str(m[1])+':'+str(branch_length[m[1]])+')'\n",
    "        else:\n",
    "            final_tree='('+final_tree+':'+str(branch_length[m[0]])+','+str(m[1])+':'+str(branch_length[m[1]])+')'\n",
    "        for key in to_remove:\n",
    "            del d[key]\n",
    "        del d[m]\n",
    "        if len(d)==1:\n",
    "            #print(\"len=1\",d)\n",
    "            a = list(d.keys())\n",
    "            branch_length[a[0]] = d[a[0]]/2\n",
    "            branch_length[a[0][1]]=d[a[0]]/2-branch_length[a[0][1]]\n",
    "            if len_tup(a[0])==2:\n",
    "                final_tree='('+final_tree+str(a[0][0])+':'+str(branch_length[a[0][0]])+','+str(a[0][1])+':'+str(branch_length[a[0][1]])+')'\n",
    "            else:\n",
    "                final_tree='('+final_tree+':'+str(branch_length[a[0][0]])+','+str(a[0][1])+':'+str(branch_length[a[0][1]])+')'\n",
    "                \n",
    "        for ind in m:\n",
    "            indices.remove(ind)   \n",
    "    print('branch_length',branch_length)\n",
    "    print(final_tree+';')\n",
    "    \n",
    "    return final_tree+';'\n",
    "\n",
    "tree = upgma(d, indices)\n",
    "#'(((A:1, D:1):1, B:2):2, C:4);'YAS KURWA!!!\n"
   ]
  },
  {
   "cell_type": "code",
   "execution_count": 23,
   "metadata": {},
   "outputs": [
    {
     "data": {
      "image/png": "[encoded data removed]",
      "text/plain": [
       "<IPython.core.display.Image object>"
      ]
     },
     "execution_count": 23,
     "metadata": {},
     "output_type": "execute_result"
    }
   ],
   "source": [
    "t = Tree(tree)\n",
    "ts = TreeStyle()\n",
    "ts.show_branch_length = True\n",
    "t.render('%%inline', w=183, units='mm', tree_style=ts)"
   ]
  },
  {
   "cell_type": "code",
   "execution_count": 24,
   "metadata": {},
   "outputs": [],
   "source": [
    "def calculate_permutations(l):\n",
    "    final = []\n",
    "    for i in l:\n",
    "        for j in l:\n",
    "            if i!=j:\n",
    "                tupl = (i,j)\n",
    "                tupl2 = (j,i)\n",
    "                if tupl not in final and tupl2 not in final:\n",
    "                    final.append(tupl)\n",
    "    return final"
   ]
  },
  {
   "cell_type": "code",
   "execution_count": 25,
   "metadata": {
    "scrolled": true
   },
   "outputs": [
    {
     "name": "stdout",
     "output_type": "stream",
     "text": [
      "{('Sabertooth', 'Homotherium'): nan, ('Sabertooth', 'American'): nan, ('Sabertooth', 'Spotted'): nan, ('Sabertooth', 'Striped'): nan, ('Sabertooth', 'Chinese'): nan, ('Sabertooth', 'African'): nan, ('Sabertooth', 'Felis'): nan, ('Sabertooth', 'Wild'): nan, ('Sabertooth', 'Cheetah'): nan, ('Sabertooth', 'Puma'): nan, ('Sabertooth', 'Tiger'): 1.20708, ('Sabertooth', 'Lion'): nan, ('Sabertooth', 'Leopard'): nan, ('Sabertooth', 'Dog'): nan, ('Sabertooth', 'Wolf'): nan, ('Sabertooth', 'Black'): nan, ('Sabertooth', 'Brown'): nan, ('Homotherium', 'American'): nan, ('Homotherium', 'Spotted'): nan, ('Homotherium', 'Striped'): nan, ('Homotherium', 'Chinese'): nan, ('Homotherium', 'African'): nan, ('Homotherium', 'Felis'): nan, ('Homotherium', 'Wild'): nan, ('Homotherium', 'Cheetah'): nan, ('Homotherium', 'Puma'): inf, ('Homotherium', 'Tiger'): nan, ('Homotherium', 'Lion'): nan, ('Homotherium', 'Leopard'): nan, ('Homotherium', 'Dog'): 1.64792, ('Homotherium', 'Wolf'): inf, ('Homotherium', 'Black'): nan, ('Homotherium', 'Brown'): nan, ('American', 'Spotted'): nan, ('American', 'Striped'): nan, ('American', 'Chinese'): nan, ('American', 'African'): nan, ('American', 'Felis'): nan, ('American', 'Wild'): nan, ('American', 'Cheetah'): nan, ('American', 'Puma'): nan, ('American', 'Tiger'): nan, ('American', 'Lion'): nan, ('American', 'Leopard'): nan, ('American', 'Dog'): nan, ('American', 'Wolf'): nan, ('American', 'Black'): nan, ('American', 'Brown'): nan, ('Spotted', 'Striped'): 1.07631, ('Spotted', 'Chinese'): nan, ('Spotted', 'African'): nan, ('Spotted', 'Felis'): nan, ('Spotted', 'Wild'): nan, ('Spotted', 'Cheetah'): nan, ('Spotted', 'Puma'): nan, ('Spotted', 'Tiger'): nan, ('Spotted', 'Lion'): inf, ('Spotted', 'Leopard'): 2.28339, ('Spotted', 'Dog'): nan, ('Spotted', 'Wolf'): nan, ('Spotted', 'Black'): nan, ('Spotted', 'Brown'): nan, ('Striped', 'Chinese'): nan, ('Striped', 'African'): 2.28339, ('Striped', 'Felis'): nan, ('Striped', 'Wild'): nan, ('Striped', 'Cheetah'): nan, ('Striped', 'Puma'): nan, ('Striped', 'Tiger'): nan, ('Striped', 'Lion'): nan, ('Striped', 'Leopard'): nan, ('Striped', 'Dog'): nan, ('Striped', 'Wolf'): nan, ('Striped', 'Black'): nan, ('Striped', 'Brown'): nan, ('Chinese', 'African'): nan, ('Chinese', 'Felis'): nan, ('Chinese', 'Wild'): nan, ('Chinese', 'Cheetah'): 2.28339, ('Chinese', 'Puma'): nan, ('Chinese', 'Tiger'): nan, ('Chinese', 'Lion'): inf, ('Chinese', 'Leopard'): nan, ('Chinese', 'Dog'): nan, ('Chinese', 'Wolf'): nan, ('Chinese', 'Black'): nan, ('Chinese', 'Brown'): nan, ('African', 'Felis'): nan, ('African', 'Wild'): nan, ('African', 'Cheetah'): nan, ('African', 'Puma'): nan, ('African', 'Tiger'): nan, ('African', 'Lion'): nan, ('African', 'Leopard'): nan, ('African', 'Dog'): nan, ('African', 'Wolf'): nan, ('African', 'Black'): nan, ('African', 'Brown'): nan, ('Felis', 'Wild'): inf, ('Felis', 'Cheetah'): 2.28339, ('Felis', 'Puma'): nan, ('Felis', 'Tiger'): nan, ('Felis', 'Lion'): nan, ('Felis', 'Leopard'): 1.07631, ('Felis', 'Dog'): nan, ('Felis', 'Wolf'): inf, ('Felis', 'Black'): nan, ('Felis', 'Brown'): nan, ('Wild', 'Cheetah'): 1.07631, ('Wild', 'Puma'): nan, ('Wild', 'Tiger'): 1.20708, ('Wild', 'Lion'): inf, ('Wild', 'Leopard'): 1.07631, ('Wild', 'Dog'): nan, ('Wild', 'Wolf'): 0.82396, ('Wild', 'Black'): nan, ('Wild', 'Brown'): nan, ('Cheetah', 'Puma'): nan, ('Cheetah', 'Tiger'): nan, ('Cheetah', 'Lion'): nan, ('Cheetah', 'Leopard'): nan, ('Cheetah', 'Dog'): nan, ('Cheetah', 'Wolf'): nan, ('Cheetah', 'Black'): nan, ('Cheetah', 'Brown'): nan, ('Puma', 'Tiger'): nan, ('Puma', 'Lion'): nan, ('Puma', 'Leopard'): 1.07631, ('Puma', 'Dog'): nan, ('Puma', 'Wolf'): nan, ('Puma', 'Black'): nan, ('Puma', 'Brown'): nan, ('Tiger', 'Lion'): inf, ('Tiger', 'Leopard'): 2.28339, ('Tiger', 'Dog'): 1.64792, ('Tiger', 'Wolf'): nan, ('Tiger', 'Black'): nan, ('Tiger', 'Brown'): nan, ('Lion', 'Leopard'): 0.35968, ('Lion', 'Dog'): nan, ('Lion', 'Wolf'): nan, ('Lion', 'Black'): nan, ('Lion', 'Brown'): 1.20708, ('Leopard', 'Dog'): nan, ('Leopard', 'Wolf'): nan, ('Leopard', 'Black'): nan, ('Leopard', 'Brown'): nan, ('Dog', 'Wolf'): 0.82396, ('Dog', 'Black'): 1.20708, ('Dog', 'Brown'): 1.20708, ('Wolf', 'Black'): nan, ('Wolf', 'Brown'): nan, ('Black', 'Brown'): nan}\n",
      "153\n"
     ]
    },
    {
     "name": "stderr",
     "output_type": "stream",
     "text": [
      "<ipython-input-8-ede97bf83896>:10: RuntimeWarning: invalid value encountered in log\n",
      "  return round(-(3.0/4.0)*np.log(1-(4.0/3.0)*compt), 10)\n",
      "<ipython-input-8-ede97bf83896>:10: RuntimeWarning: divide by zero encountered in log\n",
      "  return round(-(3.0/4.0)*np.log(1-(4.0/3.0)*compt), 10)\n"
     ]
    }
   ],
   "source": [
    "names = list(dic_data.keys())\n",
    "final = []\n",
    "\n",
    "final = calculate_permutations(names)\n",
    "\n",
    "dic_distances = {}\n",
    "for i in final:\n",
    "    dic_distances[i] = round(calculer_distance(i[0], i[1]), 5)\n",
    "\n",
    "print(dic_distances)\n",
    "print(len(dic_distances))"
   ]
  },
  {
   "cell_type": "code",
   "execution_count": 26,
   "metadata": {
    "scrolled": true
   },
   "outputs": [
    {
     "name": "stdout",
     "output_type": "stream",
     "text": [
      "branch_length {'Sabertooth': nan, 'Homotherium': nan, 'American': nan, 'Spotted': nan, 'Striped': nan, 'Chinese': nan, 'African': nan, 'Felis': nan, 'Wild': 0.41198, 'Cheetah': nan, 'Puma': nan, 'Tiger': nan, 'Lion': 0.17984, 'Leopard': 0.17984, 'Dog': 0.60354, 'Wolf': 0.41198, 'Black': 0.60354, 'Brown': nan, ('Sabertooth', 'Homotherium'): nan, ('American', 'Spotted'): nan, ('Striped', 'Chinese'): nan, ('African', 'Felis'): nan, ('Lion', 'Leopard'): nan, ('Wild', 'Wolf'): nan, ('Cheetah', 'Puma'): nan, ('Dog', 'Black'): nan, ('Tiger', 'Brown'): nan, (('American', 'Spotted'), ('Sabertooth', 'Homotherium')): nan, (('African', 'Felis'), ('Striped', 'Chinese')): nan, (('Wild', 'Wolf'), ('Lion', 'Leopard')): nan, (('Dog', 'Black'), ('Cheetah', 'Puma')): nan, ((('American', 'Spotted'), ('Sabertooth', 'Homotherium')), ('Tiger', 'Brown')): nan, ((('Wild', 'Wolf'), ('Lion', 'Leopard')), (('African', 'Felis'), ('Striped', 'Chinese'))): nan, (((('American', 'Spotted'), ('Sabertooth', 'Homotherium')), ('Tiger', 'Brown')), (('Dog', 'Black'), ('Cheetah', 'Puma'))): nan, ((((('American', 'Spotted'), ('Sabertooth', 'Homotherium')), ('Tiger', 'Brown')), (('Dog', 'Black'), ('Cheetah', 'Puma'))), ((('Wild', 'Wolf'), ('Lion', 'Leopard')), (('African', 'Felis'), ('Striped', 'Chinese')))): nan}\n",
      "(((((((((((((((((:nan,Homotherium:nan):nan,Spotted:nan):nan,Chinese:nan):nan,Felis:nan):0.17984,Leopard:0.17984):0.41198,Wolf:0.41198):nan,Puma:nan):0.60354,Black:0.60354):nan,Brown:nan):nan,('Sabertooth', 'Homotherium'):nan):nan,('Striped', 'Chinese'):nan):nan,('Lion', 'Leopard'):nan):nan,('Cheetah', 'Puma'):nan):nan,('Tiger', 'Brown'):nan):nan,(('African', 'Felis'), ('Striped', 'Chinese')):nan):nan,(('Dog', 'Black'), ('Cheetah', 'Puma')):nan):nan,((('Wild', 'Wolf'), ('Lion', 'Leopard')), (('African', 'Felis'), ('Striped', 'Chinese'))):nan);\n",
      "(((((((((((((((((:nan,Homotherium:nan):nan,Spotted:nan):nan,Chinese:nan):nan,Felis:nan):0.17984,Leopard:0.17984):0.41198,Wolf:0.41198):nan,Puma:nan):0.60354,Black:0.60354):nan,Brown:nan):nan,('Sabertooth', 'Homotherium'):nan):nan,('Striped', 'Chinese'):nan):nan,('Lion', 'Leopard'):nan):nan,('Cheetah', 'Puma'):nan):nan,('Tiger', 'Brown'):nan):nan,(('African', 'Felis'), ('Striped', 'Chinese')):nan):nan,(('Dog', 'Black'), ('Cheetah', 'Puma')):nan):nan,((('Wild', 'Wolf'), ('Lion', 'Leopard')), (('African', 'Felis'), ('Striped', 'Chinese'))):nan);\n"
     ]
    }
   ],
   "source": [
    "tree_upgma = upgma(copy.deepcopy(dic_distances), names)\n",
    "print(tree_upgma)"
   ]
  },
  {
   "cell_type": "markdown",
   "metadata": {},
   "source": [
    "**Exercice 8 :** Quelles sont les hypothèses faites par UPGMA ? Semblent-elles respectées dans le cas présent ?"
   ]
  },
  {
   "cell_type": "markdown",
   "metadata": {},
   "source": [
    "Réponse : "
   ]
  },
  {
   "cell_type": "markdown",
   "metadata": {},
   "source": [
    "----\n",
    "## Enracinement de l'arbre\n",
    "\n",
    "Après avoir utilisé UPGMA pour réaliser votre arbre, l'enracinement s'est normalement fait au poids moyen. \n",
    "\n",
    "**Exercice 9 :** Quelle autre méthode est-il possible d'utiliser pour enraciner un arbre ? Pouvez-vous l'utilisez ici ? Si oui, afficher le nouvel arbre."
   ]
  },
  {
   "cell_type": "markdown",
   "metadata": {},
   "source": [
    "Réponse : Contrairement à l'enracinement moyen pondéré que nous avons effectué avec l'algorithme upgma, qui nous donne un arbre phylogénétique dans lequel toutes les séquences évoluent à la même vitesse, il y a la possibilité d'effectuer l'enracinement avec un groupe extérieur. Ce dernier nous permet de définir la racine par le nœud qui rejoint le groupe extérieur avec les séquences étudiées."
   ]
  },
  {
   "cell_type": "code",
   "execution_count": null,
   "metadata": {},
   "outputs": [],
   "source": [
    "# À remplir"
   ]
  },
  {
   "cell_type": "markdown",
   "metadata": {},
   "source": [
    "----\n",
    "## Neighbor-joining\n",
    "\n",
    "Le neighbor-joining est un autre algorithme permettant de calculer un arbre phylogénique à partir d'une matrice de distance. Il a l'avantage de faire moins d'hypothèse qu'UPGMA sur les données (elles ne sont plus forcément ultramétrique) et il donne donc de meilleurs arbres dans presque tout les cas. Vous trouverez un example d'application de cet algorithme [ici](http://www.evolution-textbook.org/content/free/tables/Ch_27/T11_EVOW_Ch27.pdf).\n",
    "\n",
    "**Exercice 10 :** Implémenter l'algorithme du neighbor-joining, appliquer-le aux données puis enraciner l'arbre."
   ]
  },
  {
   "cell_type": "code",
   "execution_count": null,
   "metadata": {},
   "outputs": [],
   "source": [
    "# À remplir\n",
    "# https://ressources.unisciel.fr/intro_biologie_evolution/co/grain5_3_2_2.html aqui hay un ejemplo"
   ]
  },
  {
   "cell_type": "code",
   "execution_count": null,
   "metadata": {
    "scrolled": true
   },
   "outputs": [],
   "source": [
    "def traceback_neighbor(dic_aux):\n",
    "    tree = ''\n",
    "    compt = 0\n",
    "    compt_final = 1\n",
    "    for i in dic_aux:\n",
    "        if compt_final == len(dic_aux):\n",
    "                tree = '('+tree + ','+ str(i)+':'+str(dic_aux[i]) +');'\n",
    "                return(tree)\n",
    "        if compt_final == len(dic_aux)-1:\n",
    "                tree = tree  + str(i) +':'+str(dic_aux[i])\n",
    "        elif compt_final == 1:\n",
    "            tree = '('+i+':'+str(dic_aux[i])+','\n",
    "        elif compt_final == 2:\n",
    "            tree += i+':'+str(dic_aux[i])+')'\n",
    "        else:\n",
    "            if compt == 0:\n",
    "                tree += ':'+str(dic_aux[i])+ ','\n",
    "            else:\n",
    "                 tree = '('+ tree + str(i)+':'+str(dic_aux[i]) +')'\n",
    "        compt +=1\n",
    "        compt_final +=1\n",
    "        if compt%2 == 0:\n",
    "            compt = 0\n",
    "    "
   ]
  },
  {
   "cell_type": "code",
   "execution_count": null,
   "metadata": {},
   "outputs": [],
   "source": [
    "def neighbor_joining(d, indices):\n",
    "    \n",
    "    #compt_union = 0\n",
    "    dic_aux = {}\n",
    "    \n",
    "    while len(indices) > 1:\n",
    "        print(d)\n",
    "        lastelement = False\n",
    "        to_remove = []\n",
    "        \n",
    "        #calculate S for each node - Step 1\n",
    "        s = {}\n",
    "        for i in indices:\n",
    "            suma = 0\n",
    "            for j in indices:\n",
    "                if i!=j:\n",
    "                    try:\n",
    "                        suma += d[(i,j)]\n",
    "                    except:\n",
    "                        suma+= d[(j,i)]\n",
    "            try:\n",
    "                suma/=len(indices)-2\n",
    "            except:\n",
    "                lastelement = True\n",
    "            s[i] = suma\n",
    "        \n",
    "        if not lastelement:\n",
    "            #calculate M for each pair of nodes - Step 2\n",
    "            pairs = calculate_permutations(indices)\n",
    "\n",
    "            m = {}\n",
    "            for i in pairs:\n",
    "                val = 0\n",
    "                try:\n",
    "                    val += d[(i)]\n",
    "                except:\n",
    "                    val += d[(i[1], i[0])]\n",
    "                val -= (s[i[0]] + s[i[1]])\n",
    "                m[i] = val\n",
    "\n",
    "            val_min = min(m, key=m.get)\n",
    "\n",
    "            #compt_union += 1\n",
    "            #union = 'u'+str(compt_union)\n",
    "\n",
    "            u = {}\n",
    "            try:\n",
    "                u[(val_min[0], val_min)] = (d[val_min] +(s[val_min[0]] - s[val_min[1]]))/2\n",
    "                u[(val_min[1], val_min)] = (d[val_min] +(s[val_min[1]] - s[val_min[0]]))/2\n",
    "                \n",
    "            except:\n",
    "                u[(val_min[0], val_min)] = (d[(val_min[1], val_min[0])] +(s[val_min[0]] - s[val_min[1]]))/2\n",
    "                u[(val_min[1], val_min)] = (d[(val_min[1], val_min[0])] +(s[val_min[1]] - s[val_min[0]]))/2\n",
    "            dic_aux[val_min[0]] = u[(val_min[0], val_min)]\n",
    "            dic_aux[val_min[1]] = u[(val_min[1], val_min)]\n",
    "            \n",
    "            \n",
    "\n",
    "            for i in indices:\n",
    "                new_dist = 0\n",
    "                calculated = False\n",
    "                for j in indices:\n",
    "                    if i not in val_min and j in val_min:\n",
    "                        new = (val_min, i)\n",
    "                        try:\n",
    "                            new_dist += d[(i,j)]\n",
    "                            to_remove.append((i,j))\n",
    "\n",
    "                        except:\n",
    "                            new_dist += d[(j,i)]\n",
    "                            to_remove.append((j,i))\n",
    "                        calculated = True\n",
    "                if calculated:\n",
    "                    d[new] = (new_dist - d[val_min])/2\n",
    "                if val_min not in to_remove:\n",
    "                    to_remove.insert(0,val_min)\n",
    "                    \n",
    "            indices.insert(0,val_min)\n",
    "            indices.remove(val_min[0])\n",
    "            indices.remove(val_min[1])\n",
    "\n",
    "            for key in to_remove:\n",
    "                del d[key]\n",
    "        else:\n",
    "            new = (indices[0][0], indices[0][1], indices[1])\n",
    "            val = list(d.values())\n",
    "            dic_aux[indices[1]] = val[0]\n",
    "            d = { new : val[0]}\n",
    "            indices = [new]\n",
    "            \n",
    "    tree = traceback_neighbor(dic_aux)\n",
    "            \n",
    "    return tree"
   ]
  },
  {
   "cell_type": "code",
   "execution_count": null,
   "metadata": {},
   "outputs": [],
   "source": [
    "dic2 = {('A', 'B'): 5, ('A', 'C'): 4, ('A', 'D'): 7, ('A', 'E'): 6, ('A', 'F'): 8, ('B', 'C'): 7, ('B', 'D'): 10, ('B', 'E'): 9, ('B', 'F'): 11, ('C', 'D'): 7, ('C', 'E'): 6, ('C', 'F'): 8, ('D', 'E'): 5, ('D', 'F'): 9, ('E', 'F'): 8, }\n",
    "indices2 = ['A', 'B', 'C', 'D', 'E', 'F']\n",
    "tree= neighbor_joining(dic2, indices2)\n",
    "print(tree)\n",
    "\n",
    "t = Tree(tree)\n",
    "ts = TreeStyle()\n",
    "ts.show_branch_length = True\n",
    "t.render('%%inline', w=183, units='mm', tree_style=ts)"
   ]
  },
  {
   "cell_type": "code",
   "execution_count": null,
   "metadata": {},
   "outputs": [],
   "source": [
    "tree_neighbor = neighbor_joining(copy.deepcopy(dic_distances), names)\n",
    "\n",
    "print(len(dic_distances))\n",
    "print(tree_neighbor)"
   ]
  },
  {
   "cell_type": "markdown",
   "metadata": {},
   "source": [
    "----\n",
    "## Bootstrap\n",
    "\n",
    "Le bootstrap est une méthode permettant de calculer la robustesse des branches d'un arbre. Il sagit de recréer un jeu de données artificiel en tirant n positions dans l'alignement des séquences avec remise, n étant la longueur de l'alignement. On recréer un arbre à partir de ces nouvelles données puis on le compare avec l'arbre obtenu avec les données réelles. Si une branche de l'arbre réelle est présente dans l'arbre artificiel, son bootstrap augmente de 1. On répètera la procédure 100 fois afin d'avoir un score sur 100 pour chaque branche.\n",
    "\n",
    "**Exercice 11 :** Calculer le bootstrap des branches des arbres obtenus avec UPGMA et neighbor-joining."
   ]
  },
  {
   "cell_type": "code",
   "execution_count": null,
   "metadata": {},
   "outputs": [],
   "source": [
    "# À remplir"
   ]
  },
  {
   "cell_type": "markdown",
   "metadata": {},
   "source": [
    "----\n",
    "## Conclusion\n",
    "\n",
    "**Exercice 12 :** Quelles sont vos conclusions par rapport à l'arbre phylogénique de _smilodon_, _homotherium_ et _M. trumani_ ? Comparer les deux méthodes. Comment expliquer les caractéristiques morphologiques similaires entre ces trois espèces ? Une réponse détaillée est attendue."
   ]
  },
  {
   "cell_type": "markdown",
   "metadata": {
    "collapsed": true
   },
   "source": [
    "Réponse :"
   ]
  }
 ],
 "metadata": {
  "kernelspec": {
   "display_name": "Python 3",
   "language": "python",
   "name": "python3"
  },
  "language_info": {
   "codemirror_mode": {
    "name": "ipython",
    "version": 3
   },
   "file_extension": ".py",
   "mimetype": "text/x-python",
   "name": "python",
   "nbconvert_exporter": "python",
   "pygments_lexer": "ipython3",
   "version": "3.8.8"
  }
 },
 "nbformat": 4,
 "nbformat_minor": 2
}
